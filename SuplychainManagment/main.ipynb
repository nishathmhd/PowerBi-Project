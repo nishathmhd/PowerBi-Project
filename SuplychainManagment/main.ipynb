{
 "cells": [
  {
   "cell_type": "code",
   "execution_count": 1,
   "metadata": {},
   "outputs": [
    {
     "name": "stdout",
     "output_type": "stream",
     "text": [
      "Requirement already satisfied: pymysql in c:\\users\\nashi\\appdata\\local\\programs\\python\\python312\\lib\\site-packages (1.1.0)\n",
      "Note: you may need to restart the kernel to use updated packages.\n"
     ]
    }
   ],
   "source": [
    "%pip install pymysql"
   ]
  },
  {
   "cell_type": "code",
   "execution_count": 2,
   "metadata": {},
   "outputs": [],
   "source": [
    "import pandas as pd\n",
    "import numpy as np\n",
    "import zipfile36 as zipfile\n",
    "import pymysql"
   ]
  },
  {
   "cell_type": "code",
   "execution_count": 3,
   "metadata": {},
   "outputs": [],
   "source": [
    "cars = pd.read_csv(\"Car_SupplyChainManagementDataSet.csv\")"
   ]
  },
  {
   "cell_type": "code",
   "execution_count": 4,
   "metadata": {},
   "outputs": [
    {
     "name": "stdout",
     "output_type": "stream",
     "text": [
      "<class 'pandas.core.frame.DataFrame'>\n",
      "RangeIndex: 1000 entries, 0 to 999\n",
      "Data columns (total 33 columns):\n",
      " #   Column                  Non-Null Count  Dtype  \n",
      "---  ------                  --------------  -----  \n",
      " 0   SupplierID              1000 non-null   int64  \n",
      " 1   SupplierAddress         1000 non-null   object \n",
      " 2   SupplierName            1000 non-null   object \n",
      " 3   SupplierContactDetails  1000 non-null   object \n",
      " 4   ProductID               1000 non-null   int64  \n",
      " 5   CarMaker                1000 non-null   object \n",
      " 6   CarModel                1000 non-null   object \n",
      " 7   CarColor                1000 non-null   object \n",
      " 8   CarModelYear            1000 non-null   int64  \n",
      " 9   CarPrice                1000 non-null   float64\n",
      " 10  CustomerID              1000 non-null   object \n",
      " 11  CustomerName            1000 non-null   object \n",
      " 12  Gender                  1000 non-null   object \n",
      " 13  JobTitle                1000 non-null   object \n",
      " 14  PhoneNumber             1000 non-null   object \n",
      " 15  EmailAddress            1000 non-null   object \n",
      " 16  City                    1000 non-null   object \n",
      " 17  Country                 1000 non-null   object \n",
      " 18  CountryCode             1000 non-null   object \n",
      " 19  State                   1000 non-null   object \n",
      " 20  CustomerAddress         1000 non-null   object \n",
      " 21  OrderDate               1000 non-null   object \n",
      " 22  OrderID                 1000 non-null   object \n",
      " 23  ShipDate                1000 non-null   object \n",
      " 24  ShipMode                1000 non-null   object \n",
      " 25  Shipping                1000 non-null   object \n",
      " 26  PostalCode              1000 non-null   int64  \n",
      " 27  Sales                   1000 non-null   float64\n",
      " 28  Quantity                1000 non-null   int64  \n",
      " 29  Discount                1000 non-null   float64\n",
      " 30  CreditCardType          1000 non-null   object \n",
      " 31  CreditCard              1000 non-null   int64  \n",
      " 32  CustomerFeedback        1000 non-null   object \n",
      "dtypes: float64(3), int64(6), object(24)\n",
      "memory usage: 257.9+ KB\n"
     ]
    }
   ],
   "source": [
    "# check information\n",
    "cars.info()"
   ]
  },
  {
   "cell_type": "code",
   "execution_count": 5,
   "metadata": {},
   "outputs": [
    {
     "data": {
      "text/plain": [
       "(1000, 33)"
      ]
     },
     "execution_count": 5,
     "metadata": {},
     "output_type": "execute_result"
    }
   ],
   "source": [
    "# check shape\n",
    "cars.shape"
   ]
  },
  {
   "cell_type": "code",
   "execution_count": 6,
   "metadata": {},
   "outputs": [
    {
     "data": {
      "text/plain": [
       "Index(['SupplierID', 'SupplierAddress', 'SupplierName',\n",
       "       'SupplierContactDetails', 'ProductID', 'CarMaker', 'CarModel',\n",
       "       'CarColor', 'CarModelYear', 'CarPrice', 'CustomerID', 'CustomerName',\n",
       "       'Gender', 'JobTitle', 'PhoneNumber', 'EmailAddress', 'City', 'Country',\n",
       "       'CountryCode', 'State', 'CustomerAddress', 'OrderDate', 'OrderID',\n",
       "       'ShipDate', 'ShipMode', 'Shipping', 'PostalCode', 'Sales', 'Quantity',\n",
       "       'Discount', 'CreditCardType', 'CreditCard', 'CustomerFeedback'],\n",
       "      dtype='object')"
      ]
     },
     "execution_count": 6,
     "metadata": {},
     "output_type": "execute_result"
    }
   ],
   "source": [
    "cars.columns"
   ]
  },
  {
   "cell_type": "code",
   "execution_count": 7,
   "metadata": {},
   "outputs": [
    {
     "data": {
      "text/html": [
       "<div>\n",
       "<style scoped>\n",
       "    .dataframe tbody tr th:only-of-type {\n",
       "        vertical-align: middle;\n",
       "    }\n",
       "\n",
       "    .dataframe tbody tr th {\n",
       "        vertical-align: top;\n",
       "    }\n",
       "\n",
       "    .dataframe thead th {\n",
       "        text-align: right;\n",
       "    }\n",
       "</style>\n",
       "<table border=\"1\" class=\"dataframe\">\n",
       "  <thead>\n",
       "    <tr style=\"text-align: right;\">\n",
       "      <th></th>\n",
       "      <th>SupplierID</th>\n",
       "      <th>SupplierAddress</th>\n",
       "      <th>SupplierName</th>\n",
       "      <th>SupplierContactDetails</th>\n",
       "      <th>ProductID</th>\n",
       "      <th>CarMaker</th>\n",
       "      <th>CarModel</th>\n",
       "      <th>CarColor</th>\n",
       "      <th>CarModelYear</th>\n",
       "      <th>CarPrice</th>\n",
       "      <th>...</th>\n",
       "      <th>ShipDate</th>\n",
       "      <th>ShipMode</th>\n",
       "      <th>Shipping</th>\n",
       "      <th>PostalCode</th>\n",
       "      <th>Sales</th>\n",
       "      <th>Quantity</th>\n",
       "      <th>Discount</th>\n",
       "      <th>CreditCardType</th>\n",
       "      <th>CreditCard</th>\n",
       "      <th>CustomerFeedback</th>\n",
       "    </tr>\n",
       "  </thead>\n",
       "  <tbody>\n",
       "    <tr>\n",
       "      <th>0</th>\n",
       "      <td>1</td>\n",
       "      <td>542 Dayton Center</td>\n",
       "      <td>Bubbletube</td>\n",
       "      <td>871-57-6028</td>\n",
       "      <td>8893</td>\n",
       "      <td>Dodge</td>\n",
       "      <td>Ram 2500</td>\n",
       "      <td>Goldenrod</td>\n",
       "      <td>2007</td>\n",
       "      <td>521963.45</td>\n",
       "      <td>...</td>\n",
       "      <td>2019/03/14</td>\n",
       "      <td>Standard Class</td>\n",
       "      <td>Truck</td>\n",
       "      <td>99522</td>\n",
       "      <td>744796.41</td>\n",
       "      <td>1</td>\n",
       "      <td>0.83</td>\n",
       "      <td>diners-club-carte-blanche</td>\n",
       "      <td>30408016042565</td>\n",
       "      <td>Bad</td>\n",
       "    </tr>\n",
       "    <tr>\n",
       "      <th>1</th>\n",
       "      <td>2</td>\n",
       "      <td>0674 Springview Circle</td>\n",
       "      <td>Tagopia</td>\n",
       "      <td>337-64-4060</td>\n",
       "      <td>9444</td>\n",
       "      <td>Toyota</td>\n",
       "      <td>Tundra</td>\n",
       "      <td>Crimson</td>\n",
       "      <td>2010</td>\n",
       "      <td>672222.04</td>\n",
       "      <td>...</td>\n",
       "      <td>2019/03/06</td>\n",
       "      <td>Standard Class</td>\n",
       "      <td>Truck</td>\n",
       "      <td>56398</td>\n",
       "      <td>794773.17</td>\n",
       "      <td>1</td>\n",
       "      <td>0.79</td>\n",
       "      <td>jcb</td>\n",
       "      <td>3549221112237767</td>\n",
       "      <td>Good</td>\n",
       "    </tr>\n",
       "    <tr>\n",
       "      <th>2</th>\n",
       "      <td>3</td>\n",
       "      <td>70 Autumn Leaf Center</td>\n",
       "      <td>Zoomdog</td>\n",
       "      <td>218-19-1802</td>\n",
       "      <td>253</td>\n",
       "      <td>GMC</td>\n",
       "      <td>Savana 1500</td>\n",
       "      <td>Crimson</td>\n",
       "      <td>2011</td>\n",
       "      <td>504465.72</td>\n",
       "      <td>...</td>\n",
       "      <td>2019/01/20</td>\n",
       "      <td>Second Class</td>\n",
       "      <td>Air</td>\n",
       "      <td>60674</td>\n",
       "      <td>968244.90</td>\n",
       "      <td>1</td>\n",
       "      <td>0.28</td>\n",
       "      <td>jcb</td>\n",
       "      <td>3557159608180902</td>\n",
       "      <td>Okay</td>\n",
       "    </tr>\n",
       "    <tr>\n",
       "      <th>3</th>\n",
       "      <td>4</td>\n",
       "      <td>649 Corben Lane</td>\n",
       "      <td>Oozz</td>\n",
       "      <td>635-15-3112</td>\n",
       "      <td>1283</td>\n",
       "      <td>Volkswagen</td>\n",
       "      <td>Cabriolet</td>\n",
       "      <td>Fuscia</td>\n",
       "      <td>1990</td>\n",
       "      <td>646077.11</td>\n",
       "      <td>...</td>\n",
       "      <td>2019/03/16</td>\n",
       "      <td>First Class</td>\n",
       "      <td>Truck</td>\n",
       "      <td>32885</td>\n",
       "      <td>942213.82</td>\n",
       "      <td>2</td>\n",
       "      <td>0.76</td>\n",
       "      <td>jcb</td>\n",
       "      <td>3529909223663921</td>\n",
       "      <td>Very Bad</td>\n",
       "    </tr>\n",
       "    <tr>\n",
       "      <th>4</th>\n",
       "      <td>5</td>\n",
       "      <td>94 Namekagon Point</td>\n",
       "      <td>Kare</td>\n",
       "      <td>849-23-6788</td>\n",
       "      <td>8905</td>\n",
       "      <td>Mercury</td>\n",
       "      <td>Mariner</td>\n",
       "      <td>Teal</td>\n",
       "      <td>2009</td>\n",
       "      <td>699890.24</td>\n",
       "      <td>...</td>\n",
       "      <td>2019/01/29</td>\n",
       "      <td>Second Class</td>\n",
       "      <td>Air</td>\n",
       "      <td>48232</td>\n",
       "      <td>879519.57</td>\n",
       "      <td>1</td>\n",
       "      <td>0.50</td>\n",
       "      <td>china-unionpay</td>\n",
       "      <td>5602235978541517</td>\n",
       "      <td>Bad</td>\n",
       "    </tr>\n",
       "  </tbody>\n",
       "</table>\n",
       "<p>5 rows × 33 columns</p>\n",
       "</div>"
      ],
      "text/plain": [
       "   SupplierID         SupplierAddress SupplierName SupplierContactDetails  \\\n",
       "0           1       542 Dayton Center   Bubbletube            871-57-6028   \n",
       "1           2  0674 Springview Circle      Tagopia            337-64-4060   \n",
       "2           3   70 Autumn Leaf Center      Zoomdog            218-19-1802   \n",
       "3           4         649 Corben Lane         Oozz            635-15-3112   \n",
       "4           5      94 Namekagon Point         Kare            849-23-6788   \n",
       "\n",
       "   ProductID    CarMaker     CarModel   CarColor  CarModelYear   CarPrice  \\\n",
       "0       8893       Dodge     Ram 2500  Goldenrod          2007  521963.45   \n",
       "1       9444      Toyota       Tundra    Crimson          2010  672222.04   \n",
       "2        253         GMC  Savana 1500    Crimson          2011  504465.72   \n",
       "3       1283  Volkswagen    Cabriolet     Fuscia          1990  646077.11   \n",
       "4       8905     Mercury      Mariner       Teal          2009  699890.24   \n",
       "\n",
       "   ...    ShipDate        ShipMode Shipping PostalCode      Sales Quantity  \\\n",
       "0  ...  2019/03/14  Standard Class    Truck      99522  744796.41        1   \n",
       "1  ...  2019/03/06  Standard Class    Truck      56398  794773.17        1   \n",
       "2  ...  2019/01/20    Second Class      Air      60674  968244.90        1   \n",
       "3  ...  2019/03/16     First Class    Truck      32885  942213.82        2   \n",
       "4  ...  2019/01/29    Second Class      Air      48232  879519.57        1   \n",
       "\n",
       "  Discount             CreditCardType        CreditCard CustomerFeedback  \n",
       "0     0.83  diners-club-carte-blanche    30408016042565              Bad  \n",
       "1     0.79                        jcb  3549221112237767             Good  \n",
       "2     0.28                        jcb  3557159608180902             Okay  \n",
       "3     0.76                        jcb  3529909223663921         Very Bad  \n",
       "4     0.50             china-unionpay  5602235978541517              Bad  \n",
       "\n",
       "[5 rows x 33 columns]"
      ]
     },
     "execution_count": 7,
     "metadata": {},
     "output_type": "execute_result"
    }
   ],
   "source": [
    "cars.head()"
   ]
  },
  {
   "cell_type": "code",
   "execution_count": 8,
   "metadata": {},
   "outputs": [
    {
     "name": "stdout",
     "output_type": "stream",
     "text": [
      "SupplierID                0\n",
      "SupplierAddress           0\n",
      "SupplierName              0\n",
      "SupplierContactDetails    0\n",
      "ProductID                 0\n",
      "CarMaker                  0\n",
      "CarModel                  0\n",
      "CarColor                  0\n",
      "CarModelYear              0\n",
      "CarPrice                  0\n",
      "CustomerID                0\n",
      "CustomerName              0\n",
      "Gender                    0\n",
      "JobTitle                  0\n",
      "PhoneNumber               0\n",
      "EmailAddress              0\n",
      "City                      0\n",
      "Country                   0\n",
      "CountryCode               0\n",
      "State                     0\n",
      "CustomerAddress           0\n",
      "OrderDate                 0\n",
      "OrderID                   0\n",
      "ShipDate                  0\n",
      "ShipMode                  0\n",
      "Shipping                  0\n",
      "PostalCode                0\n",
      "Sales                     0\n",
      "Quantity                  0\n",
      "Discount                  0\n",
      "CreditCardType            0\n",
      "CreditCard                0\n",
      "CustomerFeedback          0\n",
      "dtype: int64\n"
     ]
    }
   ],
   "source": [
    "# Check for missing values\n",
    "print(cars.isnull().sum())"
   ]
  },
  {
   "cell_type": "code",
   "execution_count": 9,
   "metadata": {},
   "outputs": [
    {
     "name": "stdout",
     "output_type": "stream",
     "text": [
      "Number of duplicate rows: 0\n"
     ]
    }
   ],
   "source": [
    "# Check for duplicates\n",
    "print(\"Number of duplicate rows:\", cars.duplicated().sum())"
   ]
  },
  {
   "cell_type": "code",
   "execution_count": 10,
   "metadata": {},
   "outputs": [],
   "source": [
    "cars.to_excel('cleaned_car_dataset.xlsx', sheet_name='Data')"
   ]
  },
  {
   "cell_type": "markdown",
   "metadata": {},
   "source": [
    "# Connect to the MySQL database and put all the data into database"
   ]
  },
  {
   "cell_type": "code",
   "execution_count": 11,
   "metadata": {},
   "outputs": [],
   "source": [
    "myconnection = pymysql.connect(host='localhost', user='root', passwd='Nish97@1997', database='nishathmhd')"
   ]
  },
  {
   "cell_type": "code",
   "execution_count": 12,
   "metadata": {},
   "outputs": [],
   "source": [
    "cur = myconnection.cursor()"
   ]
  },
  {
   "cell_type": "code",
   "execution_count": 13,
   "metadata": {},
   "outputs": [],
   "source": [
    "df = pd.read_excel(\"cleaned_car_dataset.xlsx\")"
   ]
  },
  {
   "cell_type": "code",
   "execution_count": 14,
   "metadata": {},
   "outputs": [
    {
     "data": {
      "text/html": [
       "<div>\n",
       "<style scoped>\n",
       "    .dataframe tbody tr th:only-of-type {\n",
       "        vertical-align: middle;\n",
       "    }\n",
       "\n",
       "    .dataframe tbody tr th {\n",
       "        vertical-align: top;\n",
       "    }\n",
       "\n",
       "    .dataframe thead th {\n",
       "        text-align: right;\n",
       "    }\n",
       "</style>\n",
       "<table border=\"1\" class=\"dataframe\">\n",
       "  <thead>\n",
       "    <tr style=\"text-align: right;\">\n",
       "      <th></th>\n",
       "      <th>Unnamed: 0</th>\n",
       "      <th>SupplierID</th>\n",
       "      <th>SupplierAddress</th>\n",
       "      <th>SupplierName</th>\n",
       "      <th>SupplierContactDetails</th>\n",
       "      <th>ProductID</th>\n",
       "      <th>CarMaker</th>\n",
       "      <th>CarModel</th>\n",
       "      <th>CarColor</th>\n",
       "      <th>CarModelYear</th>\n",
       "      <th>...</th>\n",
       "      <th>ShipDate</th>\n",
       "      <th>ShipMode</th>\n",
       "      <th>Shipping</th>\n",
       "      <th>PostalCode</th>\n",
       "      <th>Sales</th>\n",
       "      <th>Quantity</th>\n",
       "      <th>Discount</th>\n",
       "      <th>CreditCardType</th>\n",
       "      <th>CreditCard</th>\n",
       "      <th>CustomerFeedback</th>\n",
       "    </tr>\n",
       "  </thead>\n",
       "  <tbody>\n",
       "    <tr>\n",
       "      <th>0</th>\n",
       "      <td>0</td>\n",
       "      <td>1</td>\n",
       "      <td>542 Dayton Center</td>\n",
       "      <td>Bubbletube</td>\n",
       "      <td>871-57-6028</td>\n",
       "      <td>8893</td>\n",
       "      <td>Dodge</td>\n",
       "      <td>Ram 2500</td>\n",
       "      <td>Goldenrod</td>\n",
       "      <td>2007</td>\n",
       "      <td>...</td>\n",
       "      <td>2019/03/14</td>\n",
       "      <td>Standard Class</td>\n",
       "      <td>Truck</td>\n",
       "      <td>99522</td>\n",
       "      <td>744796.41</td>\n",
       "      <td>1</td>\n",
       "      <td>0.83</td>\n",
       "      <td>diners-club-carte-blanche</td>\n",
       "      <td>30408016042565</td>\n",
       "      <td>Bad</td>\n",
       "    </tr>\n",
       "    <tr>\n",
       "      <th>1</th>\n",
       "      <td>1</td>\n",
       "      <td>2</td>\n",
       "      <td>0674 Springview Circle</td>\n",
       "      <td>Tagopia</td>\n",
       "      <td>337-64-4060</td>\n",
       "      <td>9444</td>\n",
       "      <td>Toyota</td>\n",
       "      <td>Tundra</td>\n",
       "      <td>Crimson</td>\n",
       "      <td>2010</td>\n",
       "      <td>...</td>\n",
       "      <td>2019/03/06</td>\n",
       "      <td>Standard Class</td>\n",
       "      <td>Truck</td>\n",
       "      <td>56398</td>\n",
       "      <td>794773.17</td>\n",
       "      <td>1</td>\n",
       "      <td>0.79</td>\n",
       "      <td>jcb</td>\n",
       "      <td>3549221112237767</td>\n",
       "      <td>Good</td>\n",
       "    </tr>\n",
       "    <tr>\n",
       "      <th>2</th>\n",
       "      <td>2</td>\n",
       "      <td>3</td>\n",
       "      <td>70 Autumn Leaf Center</td>\n",
       "      <td>Zoomdog</td>\n",
       "      <td>218-19-1802</td>\n",
       "      <td>253</td>\n",
       "      <td>GMC</td>\n",
       "      <td>Savana 1500</td>\n",
       "      <td>Crimson</td>\n",
       "      <td>2011</td>\n",
       "      <td>...</td>\n",
       "      <td>2019/01/20</td>\n",
       "      <td>Second Class</td>\n",
       "      <td>Air</td>\n",
       "      <td>60674</td>\n",
       "      <td>968244.90</td>\n",
       "      <td>1</td>\n",
       "      <td>0.28</td>\n",
       "      <td>jcb</td>\n",
       "      <td>3557159608180902</td>\n",
       "      <td>Okay</td>\n",
       "    </tr>\n",
       "    <tr>\n",
       "      <th>3</th>\n",
       "      <td>3</td>\n",
       "      <td>4</td>\n",
       "      <td>649 Corben Lane</td>\n",
       "      <td>Oozz</td>\n",
       "      <td>635-15-3112</td>\n",
       "      <td>1283</td>\n",
       "      <td>Volkswagen</td>\n",
       "      <td>Cabriolet</td>\n",
       "      <td>Fuscia</td>\n",
       "      <td>1990</td>\n",
       "      <td>...</td>\n",
       "      <td>2019/03/16</td>\n",
       "      <td>First Class</td>\n",
       "      <td>Truck</td>\n",
       "      <td>32885</td>\n",
       "      <td>942213.82</td>\n",
       "      <td>2</td>\n",
       "      <td>0.76</td>\n",
       "      <td>jcb</td>\n",
       "      <td>3529909223663921</td>\n",
       "      <td>Very Bad</td>\n",
       "    </tr>\n",
       "    <tr>\n",
       "      <th>4</th>\n",
       "      <td>4</td>\n",
       "      <td>5</td>\n",
       "      <td>94 Namekagon Point</td>\n",
       "      <td>Kare</td>\n",
       "      <td>849-23-6788</td>\n",
       "      <td>8905</td>\n",
       "      <td>Mercury</td>\n",
       "      <td>Mariner</td>\n",
       "      <td>Teal</td>\n",
       "      <td>2009</td>\n",
       "      <td>...</td>\n",
       "      <td>2019/01/29</td>\n",
       "      <td>Second Class</td>\n",
       "      <td>Air</td>\n",
       "      <td>48232</td>\n",
       "      <td>879519.57</td>\n",
       "      <td>1</td>\n",
       "      <td>0.50</td>\n",
       "      <td>china-unionpay</td>\n",
       "      <td>5602235978541517</td>\n",
       "      <td>Bad</td>\n",
       "    </tr>\n",
       "  </tbody>\n",
       "</table>\n",
       "<p>5 rows × 34 columns</p>\n",
       "</div>"
      ],
      "text/plain": [
       "   Unnamed: 0  SupplierID         SupplierAddress SupplierName  \\\n",
       "0           0           1       542 Dayton Center   Bubbletube   \n",
       "1           1           2  0674 Springview Circle      Tagopia   \n",
       "2           2           3   70 Autumn Leaf Center      Zoomdog   \n",
       "3           3           4         649 Corben Lane         Oozz   \n",
       "4           4           5      94 Namekagon Point         Kare   \n",
       "\n",
       "  SupplierContactDetails  ProductID    CarMaker     CarModel   CarColor  \\\n",
       "0            871-57-6028       8893       Dodge     Ram 2500  Goldenrod   \n",
       "1            337-64-4060       9444      Toyota       Tundra    Crimson   \n",
       "2            218-19-1802        253         GMC  Savana 1500    Crimson   \n",
       "3            635-15-3112       1283  Volkswagen    Cabriolet     Fuscia   \n",
       "4            849-23-6788       8905     Mercury      Mariner       Teal   \n",
       "\n",
       "   CarModelYear  ...    ShipDate        ShipMode Shipping PostalCode  \\\n",
       "0          2007  ...  2019/03/14  Standard Class    Truck      99522   \n",
       "1          2010  ...  2019/03/06  Standard Class    Truck      56398   \n",
       "2          2011  ...  2019/01/20    Second Class      Air      60674   \n",
       "3          1990  ...  2019/03/16     First Class    Truck      32885   \n",
       "4          2009  ...  2019/01/29    Second Class      Air      48232   \n",
       "\n",
       "       Sales Quantity Discount             CreditCardType        CreditCard  \\\n",
       "0  744796.41        1     0.83  diners-club-carte-blanche    30408016042565   \n",
       "1  794773.17        1     0.79                        jcb  3549221112237767   \n",
       "2  968244.90        1     0.28                        jcb  3557159608180902   \n",
       "3  942213.82        2     0.76                        jcb  3529909223663921   \n",
       "4  879519.57        1     0.50             china-unionpay  5602235978541517   \n",
       "\n",
       "  CustomerFeedback  \n",
       "0              Bad  \n",
       "1             Good  \n",
       "2             Okay  \n",
       "3         Very Bad  \n",
       "4              Bad  \n",
       "\n",
       "[5 rows x 34 columns]"
      ]
     },
     "execution_count": 14,
     "metadata": {},
     "output_type": "execute_result"
    }
   ],
   "source": [
    "df.head()"
   ]
  },
  {
   "cell_type": "code",
   "execution_count": 15,
   "metadata": {},
   "outputs": [],
   "source": [
    "# Remove the first unwanted column using iloc\n",
    "df = df.iloc[:,1:]"
   ]
  },
  {
   "cell_type": "code",
   "execution_count": 16,
   "metadata": {},
   "outputs": [],
   "source": [
    "# Check the number of columns in your DataFrame\n",
    "num_cols = len(df.columns)\n",
    "\n",
    "# Generate a string with the same number of placeholders as the number of columns\n",
    "placeholders = ','.join(['%s'] * num_cols)"
   ]
  },
  {
   "cell_type": "code",
   "execution_count": 21,
   "metadata": {},
   "outputs": [
    {
     "data": {
      "text/plain": [
       "0"
      ]
     },
     "execution_count": 21,
     "metadata": {},
     "output_type": "execute_result"
    }
   ],
   "source": [
    "# create a new table into the database and insert the data.\n",
    "cur.execute(\"CREATE TABLE IF NOT EXISTS cars (SupplierID text, SupplierAddress text, SupplierName text, SupplierContactDetails text, ProductID text, CarMaker text, CarModel text, CarColor text, CarModelYear text, CarPrice text, CustomerID text, CustomerName text, Gender text, JobTitle text, PhoneNumber text, EmailAddress text, City text, Country text, CountryCode text, State text, CustomerAddress text, OrderDate text, OrderID text, ShipDate text, ShipMode text, Shipping text, PostalCode text, Sales text, Quantity text, Discount text, CreditCardType text, CreditCard text, CustomerFeedback text)\")"
   ]
  },
  {
   "cell_type": "code",
   "execution_count": 19,
   "metadata": {},
   "outputs": [],
   "source": [
    "sql = \"INSERT INTO cars VALUES ({})\".format(placeholders)"
   ]
  },
  {
   "cell_type": "code",
   "execution_count": 20,
   "metadata": {},
   "outputs": [],
   "source": [
    "# convert every record/row into tuple and commit it.\n",
    "    \n",
    "for i in range(len(df)):\n",
    "    cur.execute(sql, tuple(df.iloc[i]))\n",
    "    myconnection.commit()"
   ]
  },
  {
   "cell_type": "code",
   "execution_count": null,
   "metadata": {},
   "outputs": [],
   "source": []
  }
 ],
 "metadata": {
  "kernelspec": {
   "display_name": "Python 3",
   "language": "python",
   "name": "python3"
  },
  "language_info": {
   "codemirror_mode": {
    "name": "ipython",
    "version": 3
   },
   "file_extension": ".py",
   "mimetype": "text/x-python",
   "name": "python",
   "nbconvert_exporter": "python",
   "pygments_lexer": "ipython3",
   "version": "3.12.2"
  }
 },
 "nbformat": 4,
 "nbformat_minor": 2
}
